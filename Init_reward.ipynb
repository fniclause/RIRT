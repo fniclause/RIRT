{
 "cells": [
  {
   "cell_type": "code",
   "execution_count": 2,
   "id": "1bb2af0d",
   "metadata": {},
   "outputs": [],
   "source": [
    "import numpy as np\n",
    "from numpy import random\n",
    "import pandas as pd\n"
   ]
  },
  {
   "cell_type": "code",
   "execution_count": 200,
   "id": "9d7a87a6",
   "metadata": {},
   "outputs": [],
   "source": [
    "list_recompenses = [[\"Cadre velo\",0,600],[\"Bouquet de fleurs\",0,20],[\"Livre victoire\",0,10],[\"Pantalon\",0,15],[\"Chemise blanche\",0,15],[\"Tri fonction\",0,150]]"
   ]
  },
  {
   "cell_type": "code",
   "execution_count": 201,
   "id": "793f8b67",
   "metadata": {},
   "outputs": [
    {
     "data": {
      "text/plain": [
       "[['Cadre velo', 0, 600],\n",
       " ['Bouquet de fleurs', 0, 20],\n",
       " ['Livre victoire', 0, 10],\n",
       " ['Pantalon', 0, 15],\n",
       " ['Chemise blanche', 0, 15],\n",
       " ['Tri fonction', 0, 150]]"
      ]
     },
     "execution_count": 201,
     "metadata": {},
     "output_type": "execute_result"
    }
   ],
   "source": [
    "list_recompenses"
   ]
  },
  {
   "cell_type": "code",
   "execution_count": 202,
   "id": "f486a45e",
   "metadata": {},
   "outputs": [],
   "source": [
    "recompenses = pd.DataFrame(list_recompenses, columns=[\"recompense\",\"déjà acquis\",\"montant à atteindre\"])"
   ]
  },
  {
   "cell_type": "code",
   "execution_count": 203,
   "id": "0c12910f",
   "metadata": {},
   "outputs": [
    {
     "data": {
      "text/html": [
       "<div>\n",
       "<style scoped>\n",
       "    .dataframe tbody tr th:only-of-type {\n",
       "        vertical-align: middle;\n",
       "    }\n",
       "\n",
       "    .dataframe tbody tr th {\n",
       "        vertical-align: top;\n",
       "    }\n",
       "\n",
       "    .dataframe thead th {\n",
       "        text-align: right;\n",
       "    }\n",
       "</style>\n",
       "<table border=\"1\" class=\"dataframe\">\n",
       "  <thead>\n",
       "    <tr style=\"text-align: right;\">\n",
       "      <th></th>\n",
       "      <th>recompense</th>\n",
       "      <th>déjà acquis</th>\n",
       "      <th>montant à atteindre</th>\n",
       "    </tr>\n",
       "  </thead>\n",
       "  <tbody>\n",
       "    <tr>\n",
       "      <th>0</th>\n",
       "      <td>Cadre velo</td>\n",
       "      <td>0</td>\n",
       "      <td>600</td>\n",
       "    </tr>\n",
       "    <tr>\n",
       "      <th>1</th>\n",
       "      <td>Bouquet de fleurs</td>\n",
       "      <td>0</td>\n",
       "      <td>20</td>\n",
       "    </tr>\n",
       "    <tr>\n",
       "      <th>2</th>\n",
       "      <td>Livre victoire</td>\n",
       "      <td>0</td>\n",
       "      <td>10</td>\n",
       "    </tr>\n",
       "    <tr>\n",
       "      <th>3</th>\n",
       "      <td>Pantalon</td>\n",
       "      <td>0</td>\n",
       "      <td>15</td>\n",
       "    </tr>\n",
       "    <tr>\n",
       "      <th>4</th>\n",
       "      <td>Chemise blanche</td>\n",
       "      <td>0</td>\n",
       "      <td>15</td>\n",
       "    </tr>\n",
       "    <tr>\n",
       "      <th>5</th>\n",
       "      <td>Tri fonction</td>\n",
       "      <td>0</td>\n",
       "      <td>150</td>\n",
       "    </tr>\n",
       "  </tbody>\n",
       "</table>\n",
       "</div>"
      ],
      "text/plain": [
       "          recompense  déjà acquis  montant à atteindre\n",
       "0         Cadre velo            0                  600\n",
       "1  Bouquet de fleurs            0                   20\n",
       "2     Livre victoire            0                   10\n",
       "3           Pantalon            0                   15\n",
       "4    Chemise blanche            0                   15\n",
       "5       Tri fonction            0                  150"
      ]
     },
     "execution_count": 203,
     "metadata": {},
     "output_type": "execute_result"
    }
   ],
   "source": [
    "recompenses"
   ]
  },
  {
   "cell_type": "code",
   "execution_count": 204,
   "id": "b0e21ad9",
   "metadata": {},
   "outputs": [],
   "source": [
    "recompenses.to_csv(\"./data/.csv\",index=False)"
   ]
  },
  {
   "cell_type": "code",
   "execution_count": 44,
   "id": "8316d5c1",
   "metadata": {},
   "outputs": [],
   "source": [
    "df_recompenses = pd.read_csv(\"./data/rewards.csv\",index_col=0)"
   ]
  },
  {
   "cell_type": "code",
   "execution_count": 41,
   "id": "080d98ea",
   "metadata": {},
   "outputs": [],
   "source": [
    "df_recompenses.insert(2,\"pourcentage\",0)"
   ]
  },
  {
   "cell_type": "code",
   "execution_count": 45,
   "id": "a9aef13d",
   "metadata": {
    "scrolled": true
   },
   "outputs": [
    {
     "data": {
      "text/html": [
       "<div>\n",
       "<style scoped>\n",
       "    .dataframe tbody tr th:only-of-type {\n",
       "        vertical-align: middle;\n",
       "    }\n",
       "\n",
       "    .dataframe tbody tr th {\n",
       "        vertical-align: top;\n",
       "    }\n",
       "\n",
       "    .dataframe thead th {\n",
       "        text-align: right;\n",
       "    }\n",
       "</style>\n",
       "<table border=\"1\" class=\"dataframe\">\n",
       "  <thead>\n",
       "    <tr style=\"text-align: right;\">\n",
       "      <th></th>\n",
       "      <th>already</th>\n",
       "      <th>price</th>\n",
       "      <th>pourcentage</th>\n",
       "    </tr>\n",
       "    <tr>\n",
       "      <th>reward</th>\n",
       "      <th></th>\n",
       "      <th></th>\n",
       "      <th></th>\n",
       "    </tr>\n",
       "  </thead>\n",
       "  <tbody>\n",
       "    <tr>\n",
       "      <th>Cadre velo</th>\n",
       "      <td>0.77</td>\n",
       "      <td>600</td>\n",
       "      <td>0</td>\n",
       "    </tr>\n",
       "    <tr>\n",
       "      <th>Bouquet de fleurs</th>\n",
       "      <td>0.00</td>\n",
       "      <td>20</td>\n",
       "      <td>0</td>\n",
       "    </tr>\n",
       "    <tr>\n",
       "      <th>Livre victoire</th>\n",
       "      <td>0.00</td>\n",
       "      <td>10</td>\n",
       "      <td>0</td>\n",
       "    </tr>\n",
       "    <tr>\n",
       "      <th>Pantalon</th>\n",
       "      <td>0.00</td>\n",
       "      <td>15</td>\n",
       "      <td>0</td>\n",
       "    </tr>\n",
       "    <tr>\n",
       "      <th>Chemise blanche</th>\n",
       "      <td>0.00</td>\n",
       "      <td>15</td>\n",
       "      <td>0</td>\n",
       "    </tr>\n",
       "    <tr>\n",
       "      <th>Tri fonction</th>\n",
       "      <td>0.04</td>\n",
       "      <td>150</td>\n",
       "      <td>0</td>\n",
       "    </tr>\n",
       "  </tbody>\n",
       "</table>\n",
       "</div>"
      ],
      "text/plain": [
       "                   already  price  pourcentage\n",
       "reward                                        \n",
       "Cadre velo            0.77    600            0\n",
       "Bouquet de fleurs     0.00     20            0\n",
       "Livre victoire        0.00     10            0\n",
       "Pantalon              0.00     15            0\n",
       "Chemise blanche       0.00     15            0\n",
       "Tri fonction          0.04    150            0"
      ]
     },
     "execution_count": 45,
     "metadata": {},
     "output_type": "execute_result"
    }
   ],
   "source": [
    "df_recompenses"
   ]
  },
  {
   "cell_type": "code",
   "execution_count": 92,
   "id": "334b236c",
   "metadata": {},
   "outputs": [],
   "source": [
    "l_recompenses = recompenses.index.values.tolist()"
   ]
  },
  {
   "cell_type": "code",
   "execution_count": 191,
   "id": "11aca123",
   "metadata": {},
   "outputs": [
    {
     "name": "stdout",
     "output_type": "stream",
     "text": [
      "recompense random\n",
      "Livre victoire : +2.38€\n"
     ]
    },
    {
     "data": {
      "text/html": [
       "<div>\n",
       "<style scoped>\n",
       "    .dataframe tbody tr th:only-of-type {\n",
       "        vertical-align: middle;\n",
       "    }\n",
       "\n",
       "    .dataframe tbody tr th {\n",
       "        vertical-align: top;\n",
       "    }\n",
       "\n",
       "    .dataframe thead th {\n",
       "        text-align: right;\n",
       "    }\n",
       "</style>\n",
       "<table border=\"1\" class=\"dataframe\">\n",
       "  <thead>\n",
       "    <tr style=\"text-align: right;\">\n",
       "      <th></th>\n",
       "      <th>déjà acquis</th>\n",
       "      <th>montant à atteindre</th>\n",
       "    </tr>\n",
       "    <tr>\n",
       "      <th>recompense</th>\n",
       "      <th></th>\n",
       "      <th></th>\n",
       "    </tr>\n",
       "  </thead>\n",
       "  <tbody>\n",
       "    <tr>\n",
       "      <th>Cadre velo</th>\n",
       "      <td>0.07</td>\n",
       "      <td>600</td>\n",
       "    </tr>\n",
       "    <tr>\n",
       "      <th>Bouquet de fleurs</th>\n",
       "      <td>0.69</td>\n",
       "      <td>20</td>\n",
       "    </tr>\n",
       "    <tr>\n",
       "      <th>Livre victoire</th>\n",
       "      <td>2.38</td>\n",
       "      <td>10</td>\n",
       "    </tr>\n",
       "    <tr>\n",
       "      <th>Pantalon</th>\n",
       "      <td>0.34</td>\n",
       "      <td>15</td>\n",
       "    </tr>\n",
       "    <tr>\n",
       "      <th>Chemise blanche</th>\n",
       "      <td>0.11</td>\n",
       "      <td>15</td>\n",
       "    </tr>\n",
       "    <tr>\n",
       "      <th>Tri fonction</th>\n",
       "      <td>0.87</td>\n",
       "      <td>150</td>\n",
       "    </tr>\n",
       "  </tbody>\n",
       "</table>\n",
       "</div>"
      ],
      "text/plain": [
       "                   déjà acquis  montant à atteindre\n",
       "recompense                                         \n",
       "Cadre velo                0.07                  600\n",
       "Bouquet de fleurs         0.69                   20\n",
       "Livre victoire            2.38                   10\n",
       "Pantalon                  0.34                   15\n",
       "Chemise blanche           0.11                   15\n",
       "Tri fonction              0.87                  150"
      ]
     },
     "execution_count": 191,
     "metadata": {},
     "output_type": "execute_result"
    }
   ],
   "source": [
    "a = random.normal(0,1)\n",
    "\n",
    "test = []\n",
    "if a <-1 :\n",
    "    print(\"test random\")\n",
    "elif -1<a<=0:\n",
    "    print(\"pas de recompense\")\n",
    "else:\n",
    "    print(\"recompense random\")\n",
    "    b = random.choice(l_recompenses)\n",
    "    print(f\"{b} : +{round(a,2)}€\")\n",
    "    df_recompenses.loc[b,\"déjà acquis\"]=round(a,2)\n",
    "\n",
    "df_recompenses"
   ]
  },
  {
   "cell_type": "code",
   "execution_count": 43,
   "id": "36e5ef7f",
   "metadata": {},
   "outputs": [],
   "source": [
    "df_recompenses.to_csv(\"./data/rewards.csv\")"
   ]
  },
  {
   "cell_type": "code",
   "execution_count": 30,
   "id": "9411c4c2",
   "metadata": {},
   "outputs": [],
   "source": [
    "list_actions=[\"running\",\"cycling\",\"swimming\",\"java\",\"python\",\"No screen after 10pm\",\"good day at work\"]"
   ]
  },
  {
   "cell_type": "code",
   "execution_count": 31,
   "id": "12449f1d",
   "metadata": {},
   "outputs": [],
   "source": [
    "pd.DataFrame(list_actions,columns=[\"activities\"]).to_csv(\"./data/activities.csv\",index=False)"
   ]
  },
  {
   "cell_type": "code",
   "execution_count": 32,
   "id": "f7daa377",
   "metadata": {},
   "outputs": [],
   "source": [
    "df_activities=pd.read_csv(\"./data/activities.csv\")"
   ]
  },
  {
   "cell_type": "code",
   "execution_count": 28,
   "id": "e743441f",
   "metadata": {
    "scrolled": true
   },
   "outputs": [
    {
     "name": "stdout",
     "output_type": "stream",
     "text": [
      "Running\n",
      "OK\n"
     ]
    }
   ],
   "source": [
    "a=input()\n",
    "\n",
    "if a.lower() in df_activities.loc[:,'activities'].tolist():\n",
    "    print(\"OK\")"
   ]
  },
  {
   "cell_type": "code",
   "execution_count": 33,
   "id": "2e44e97c",
   "metadata": {},
   "outputs": [
    {
     "data": {
      "text/plain": [
       "['running',\n",
       " 'cycling',\n",
       " 'swimming',\n",
       " 'java',\n",
       " 'python',\n",
       " 'No screen after 10pm',\n",
       " 'good day at work']"
      ]
     },
     "execution_count": 33,
     "metadata": {},
     "output_type": "execute_result"
    }
   ],
   "source": [
    "df_activities.loc[:,'activities'].tolist()"
   ]
  },
  {
   "cell_type": "code",
   "execution_count": 8,
   "id": "df6a50bb",
   "metadata": {},
   "outputs": [],
   "source": [
    "import pandas as pd\n",
    "rewards=pd.read_csv(\"./data/rewards.csv\")"
   ]
  },
  {
   "cell_type": "code",
   "execution_count": 24,
   "id": "898edd1e",
   "metadata": {},
   "outputs": [],
   "source": [
    "#rewards.at[0,\"reward\"]=\"bottom bracket gravel\"\n",
    "rewards.at[0,\"price\"]=250\n"
   ]
  },
  {
   "cell_type": "code",
   "execution_count": 28,
   "id": "2c0359e8",
   "metadata": {},
   "outputs": [],
   "source": [
    "rewards.drop(labels=\"bottom bracket gravel\",axis=1,inplace=True)"
   ]
  },
  {
   "cell_type": "code",
   "execution_count": 30,
   "id": "7a250b4b",
   "metadata": {},
   "outputs": [],
   "source": [
    "rewards.to_csv(\"./data/rewards.csv\",index=False)"
   ]
  }
 ],
 "metadata": {
  "kernelspec": {
   "display_name": "Python 3 (ipykernel)",
   "language": "python",
   "name": "python3"
  },
  "language_info": {
   "codemirror_mode": {
    "name": "ipython",
    "version": 3
   },
   "file_extension": ".py",
   "mimetype": "text/x-python",
   "name": "python",
   "nbconvert_exporter": "python",
   "pygments_lexer": "ipython3",
   "version": "3.10.9"
  },
  "toc": {
   "base_numbering": 1,
   "nav_menu": {},
   "number_sections": true,
   "sideBar": true,
   "skip_h1_title": false,
   "title_cell": "Table of Contents",
   "title_sidebar": "Contents",
   "toc_cell": false,
   "toc_position": {},
   "toc_section_display": true,
   "toc_window_display": false
  }
 },
 "nbformat": 4,
 "nbformat_minor": 5
}
