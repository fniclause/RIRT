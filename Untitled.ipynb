{
 "cells": [
  {
   "cell_type": "code",
   "execution_count": 6,
   "id": "0902c368",
   "metadata": {},
   "outputs": [],
   "source": [
    "import numpy as np\n",
    "from numpy import random\n",
    "import pandas as pd\n"
   ]
  },
  {
   "cell_type": "code",
   "execution_count": 194,
   "id": "5571a23e",
   "metadata": {},
   "outputs": [],
   "source": [
    "list_recompenses = [[\"Cadre velo\",0,600],[\"Bouquet de fleurs\",0,20],[\"Livre victoire\",0,10],[\"Pantalon\",0,15],[\"Chemise blanche\",0,15],[\"Tri fonction\",0,150]]"
   ]
  },
  {
   "cell_type": "code",
   "execution_count": 195,
   "id": "de6bfa88",
   "metadata": {},
   "outputs": [
    {
     "data": {
      "text/plain": [
       "[['Cadre velo', 0, 600],\n",
       " ['Bouquet de fleurs', 0, 20],\n",
       " ['Livre victoire', 0, 10],\n",
       " ['Pantalon', 0, 15],\n",
       " ['Chemise blanche', 0, 15],\n",
       " ['Tri fonction', 0, 150]]"
      ]
     },
     "execution_count": 195,
     "metadata": {},
     "output_type": "execute_result"
    }
   ],
   "source": [
    "list_recompenses"
   ]
  },
  {
   "cell_type": "code",
   "execution_count": 196,
   "id": "1de9bd7d",
   "metadata": {},
   "outputs": [],
   "source": [
    "recompenses = pd.DataFrame(list_recompenses, columns=[\"recompense\",\"déjà acquis\",\"montant à atteindre\"])"
   ]
  },
  {
   "cell_type": "code",
   "execution_count": 197,
   "id": "24dbce88",
   "metadata": {},
   "outputs": [
    {
     "data": {
      "text/html": [
       "<div>\n",
       "<style scoped>\n",
       "    .dataframe tbody tr th:only-of-type {\n",
       "        vertical-align: middle;\n",
       "    }\n",
       "\n",
       "    .dataframe tbody tr th {\n",
       "        vertical-align: top;\n",
       "    }\n",
       "\n",
       "    .dataframe thead th {\n",
       "        text-align: right;\n",
       "    }\n",
       "</style>\n",
       "<table border=\"1\" class=\"dataframe\">\n",
       "  <thead>\n",
       "    <tr style=\"text-align: right;\">\n",
       "      <th></th>\n",
       "      <th>recompense</th>\n",
       "      <th>déjà acquis</th>\n",
       "      <th>montant à atteindre</th>\n",
       "    </tr>\n",
       "  </thead>\n",
       "  <tbody>\n",
       "    <tr>\n",
       "      <th>0</th>\n",
       "      <td>Cadre velo</td>\n",
       "      <td>0</td>\n",
       "      <td>600</td>\n",
       "    </tr>\n",
       "    <tr>\n",
       "      <th>1</th>\n",
       "      <td>Bouquet de fleurs</td>\n",
       "      <td>0</td>\n",
       "      <td>20</td>\n",
       "    </tr>\n",
       "    <tr>\n",
       "      <th>2</th>\n",
       "      <td>Livre victoire</td>\n",
       "      <td>0</td>\n",
       "      <td>10</td>\n",
       "    </tr>\n",
       "    <tr>\n",
       "      <th>3</th>\n",
       "      <td>Pantalon</td>\n",
       "      <td>0</td>\n",
       "      <td>15</td>\n",
       "    </tr>\n",
       "    <tr>\n",
       "      <th>4</th>\n",
       "      <td>Chemise blanche</td>\n",
       "      <td>0</td>\n",
       "      <td>15</td>\n",
       "    </tr>\n",
       "    <tr>\n",
       "      <th>5</th>\n",
       "      <td>Tri fonction</td>\n",
       "      <td>0</td>\n",
       "      <td>150</td>\n",
       "    </tr>\n",
       "  </tbody>\n",
       "</table>\n",
       "</div>"
      ],
      "text/plain": [
       "          recompense  déjà acquis  montant à atteindre\n",
       "0         Cadre velo            0                  600\n",
       "1  Bouquet de fleurs            0                   20\n",
       "2     Livre victoire            0                   10\n",
       "3           Pantalon            0                   15\n",
       "4    Chemise blanche            0                   15\n",
       "5       Tri fonction            0                  150"
      ]
     },
     "execution_count": 197,
     "metadata": {},
     "output_type": "execute_result"
    }
   ],
   "source": [
    "recompenses"
   ]
  },
  {
   "cell_type": "code",
   "execution_count": 198,
   "id": "769da2da",
   "metadata": {},
   "outputs": [],
   "source": [
    "recompenses.to_csv(\"./data/recompenses.csv\",index=False)"
   ]
  },
  {
   "cell_type": "code",
   "execution_count": 90,
   "id": "741fbcd8",
   "metadata": {},
   "outputs": [],
   "source": [
    "df_recompenses = pd.read_csv(\"./data/recompenses.csv\",index_col=0)"
   ]
  },
  {
   "cell_type": "code",
   "execution_count": 91,
   "id": "c64a207f",
   "metadata": {
    "scrolled": true
   },
   "outputs": [
    {
     "data": {
      "text/html": [
       "<div>\n",
       "<style scoped>\n",
       "    .dataframe tbody tr th:only-of-type {\n",
       "        vertical-align: middle;\n",
       "    }\n",
       "\n",
       "    .dataframe tbody tr th {\n",
       "        vertical-align: top;\n",
       "    }\n",
       "\n",
       "    .dataframe thead th {\n",
       "        text-align: right;\n",
       "    }\n",
       "</style>\n",
       "<table border=\"1\" class=\"dataframe\">\n",
       "  <thead>\n",
       "    <tr style=\"text-align: right;\">\n",
       "      <th></th>\n",
       "      <th>déjà acquis</th>\n",
       "      <th>montant à atteindre</th>\n",
       "    </tr>\n",
       "    <tr>\n",
       "      <th>recompense</th>\n",
       "      <th></th>\n",
       "      <th></th>\n",
       "    </tr>\n",
       "  </thead>\n",
       "  <tbody>\n",
       "    <tr>\n",
       "      <th>Cadre velo</th>\n",
       "      <td>0</td>\n",
       "      <td>600</td>\n",
       "    </tr>\n",
       "    <tr>\n",
       "      <th>Bouquet de fleurs</th>\n",
       "      <td>0</td>\n",
       "      <td>20</td>\n",
       "    </tr>\n",
       "    <tr>\n",
       "      <th>Livre victoire</th>\n",
       "      <td>0</td>\n",
       "      <td>10</td>\n",
       "    </tr>\n",
       "    <tr>\n",
       "      <th>Pantalon</th>\n",
       "      <td>0</td>\n",
       "      <td>15</td>\n",
       "    </tr>\n",
       "    <tr>\n",
       "      <th>Chemise blanche</th>\n",
       "      <td>0</td>\n",
       "      <td>15</td>\n",
       "    </tr>\n",
       "    <tr>\n",
       "      <th>Tri fonction</th>\n",
       "      <td>0</td>\n",
       "      <td>150</td>\n",
       "    </tr>\n",
       "  </tbody>\n",
       "</table>\n",
       "</div>"
      ],
      "text/plain": [
       "                   déjà acquis  montant à atteindre\n",
       "recompense                                         \n",
       "Cadre velo                   0                  600\n",
       "Bouquet de fleurs            0                   20\n",
       "Livre victoire               0                   10\n",
       "Pantalon                     0                   15\n",
       "Chemise blanche              0                   15\n",
       "Tri fonction                 0                  150"
      ]
     },
     "execution_count": 91,
     "metadata": {},
     "output_type": "execute_result"
    }
   ],
   "source": [
    "df_recompenses"
   ]
  },
  {
   "cell_type": "code",
   "execution_count": 92,
   "id": "97907450",
   "metadata": {},
   "outputs": [],
   "source": [
    "l_recompenses = recompenses.index.values.tolist()"
   ]
  },
  {
   "cell_type": "code",
   "execution_count": 191,
   "id": "31cbf865",
   "metadata": {},
   "outputs": [
    {
     "name": "stdout",
     "output_type": "stream",
     "text": [
      "recompense random\n",
      "Livre victoire : +2.38€\n"
     ]
    },
    {
     "data": {
      "text/html": [
       "<div>\n",
       "<style scoped>\n",
       "    .dataframe tbody tr th:only-of-type {\n",
       "        vertical-align: middle;\n",
       "    }\n",
       "\n",
       "    .dataframe tbody tr th {\n",
       "        vertical-align: top;\n",
       "    }\n",
       "\n",
       "    .dataframe thead th {\n",
       "        text-align: right;\n",
       "    }\n",
       "</style>\n",
       "<table border=\"1\" class=\"dataframe\">\n",
       "  <thead>\n",
       "    <tr style=\"text-align: right;\">\n",
       "      <th></th>\n",
       "      <th>déjà acquis</th>\n",
       "      <th>montant à atteindre</th>\n",
       "    </tr>\n",
       "    <tr>\n",
       "      <th>recompense</th>\n",
       "      <th></th>\n",
       "      <th></th>\n",
       "    </tr>\n",
       "  </thead>\n",
       "  <tbody>\n",
       "    <tr>\n",
       "      <th>Cadre velo</th>\n",
       "      <td>0.07</td>\n",
       "      <td>600</td>\n",
       "    </tr>\n",
       "    <tr>\n",
       "      <th>Bouquet de fleurs</th>\n",
       "      <td>0.69</td>\n",
       "      <td>20</td>\n",
       "    </tr>\n",
       "    <tr>\n",
       "      <th>Livre victoire</th>\n",
       "      <td>2.38</td>\n",
       "      <td>10</td>\n",
       "    </tr>\n",
       "    <tr>\n",
       "      <th>Pantalon</th>\n",
       "      <td>0.34</td>\n",
       "      <td>15</td>\n",
       "    </tr>\n",
       "    <tr>\n",
       "      <th>Chemise blanche</th>\n",
       "      <td>0.11</td>\n",
       "      <td>15</td>\n",
       "    </tr>\n",
       "    <tr>\n",
       "      <th>Tri fonction</th>\n",
       "      <td>0.87</td>\n",
       "      <td>150</td>\n",
       "    </tr>\n",
       "  </tbody>\n",
       "</table>\n",
       "</div>"
      ],
      "text/plain": [
       "                   déjà acquis  montant à atteindre\n",
       "recompense                                         \n",
       "Cadre velo                0.07                  600\n",
       "Bouquet de fleurs         0.69                   20\n",
       "Livre victoire            2.38                   10\n",
       "Pantalon                  0.34                   15\n",
       "Chemise blanche           0.11                   15\n",
       "Tri fonction              0.87                  150"
      ]
     },
     "execution_count": 191,
     "metadata": {},
     "output_type": "execute_result"
    }
   ],
   "source": [
    "a = random.normal(0,1)\n",
    "\n",
    "test = []\n",
    "if a <-1 :\n",
    "    print(\"test random\")\n",
    "elif -1<a<=0:\n",
    "    print(\"pas de recompense\")\n",
    "else:\n",
    "    print(\"recompense random\")\n",
    "    b = random.choice(l_recompenses)\n",
    "    print(f\"{b} : +{round(a,2)}€\")\n",
    "    df_recompenses.loc[b,\"déjà acquis\"]=round(a,2)\n",
    "\n",
    "df_recompenses"
   ]
  },
  {
   "cell_type": "code",
   "execution_count": 193,
   "id": "900e3d6f",
   "metadata": {},
   "outputs": [],
   "source": [
    "df_recompenses.to_csv(\"./data/recompenses.csv\")"
   ]
  }
 ],
 "metadata": {
  "kernelspec": {
   "display_name": "Python 3 (ipykernel)",
   "language": "python",
   "name": "python3"
  },
  "language_info": {
   "codemirror_mode": {
    "name": "ipython",
    "version": 3
   },
   "file_extension": ".py",
   "mimetype": "text/x-python",
   "name": "python",
   "nbconvert_exporter": "python",
   "pygments_lexer": "ipython3",
   "version": "3.10.6"
  },
  "toc": {
   "base_numbering": 1,
   "nav_menu": {},
   "number_sections": true,
   "sideBar": true,
   "skip_h1_title": false,
   "title_cell": "Table of Contents",
   "title_sidebar": "Contents",
   "toc_cell": false,
   "toc_position": {},
   "toc_section_display": true,
   "toc_window_display": false
  }
 },
 "nbformat": 4,
 "nbformat_minor": 5
}
